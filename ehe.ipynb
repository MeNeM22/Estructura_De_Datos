{
 "cells": [
  {
   "cell_type": "code",
   "execution_count": 12,
   "id": "9f865ee4-7067-4913-b1eb-8eaeb186d403",
   "metadata": {},
   "outputs": [],
   "source": [
    "def concatenar(archivo, *archivos):\n",
    "    with open(archivo,\"a\") as f:\n",
    "        for nombre in archivos:\n",
    "            with open(nombre,\"r\", encoding=\"utf-8\")as g:\n",
    "                contenido = g.read()\n",
    "                f.write(contenido)"
   ]
  },
  {
   "cell_type": "code",
   "execution_count": 13,
   "id": "8ecb464d-9a6c-4c41-b128-04fe7a2ae163",
   "metadata": {},
   "outputs": [],
   "source": [
    "concatenar(\"untitled.txt\",\"untitled1.txt\",\"untitled2.txt\")"
   ]
  },
  {
   "cell_type": "code",
   "execution_count": 5,
   "id": "ce69fee3-c030-49c0-9bc9-7702b400bcc3",
   "metadata": {},
   "outputs": [],
   "source": [
    "def puntajeMaximo(pilotos_puntaje, pilotos_equipos, pilotos_nacionalidades):\n",
    "    dicc_equipos = dict(pilotos_equipos)\n",
    "    dicc_puntaje = dict(pilotos_puntaje)\n",
    "    dicc_nacionalidades = dict(pilotos_nacionalidades)\n",
    "    puntajes = {equipo: {} for piloto, equipo in dicc_equipos.items()}\n",
    "    for piloto, equipo in dicc_equipos.items():\n",
    "        try:\n",
    "        puntaje_piloto = dicc_puntaje[piloto]\n",
    "        nacionalidad_piloto = dicc_nacionalidades[piloto]\n",
    "        if nacionalidad_piloto not in puntajes[equipo]:\n",
    "            puntajes[equipo][nacionalidad_piloto] = puntaje_piloto\n",
    "        elif puntajes[equipo][nacionalidad_piloto] < puntaje_piloto:\n",
    "            puntajes[equipo][nacionalidad_piloto] = puntaje_piloto\n",
    "        \n",
    "    return puntajes\n",
    "        \n",
    "    \n",
    "    \n",
    "    "
   ]
  },
  {
   "cell_type": "code",
   "execution_count": 7,
   "id": "dde5e3db-9098-4546-8748-fc81a875b4a3",
   "metadata": {},
   "outputs": [],
   "source": [
    "def puntajeMaximoExcept(pilotos_puntaje, pilotos_equipos, pilotos_nacionalidades):\n",
    "    dicc_equipos = dict(pilotos_equipos)\n",
    "    dicc_puntaje = dict(pilotos_puntaje)\n",
    "    dicc_nacionalidades = dict(pilotos_nacionalidades)\n",
    "\n",
    "    puntajes = {equipo: {} for piloto, equipo in dicc_equipos.items()}\n",
    "\n",
    "    for piloto, puntaje_piloto in pilotos_puntaje:\n",
    "        try:\n",
    "            equipo = dicc_equipos[piloto]\n",
    "            nacionalidad_piloto = dicc_nacionalidades[piloto]\n",
    "        except KeyError:\n",
    "            print(f\"Datos incompletos para el piloto: {piloto}\")\n",
    "            continue  # Salta este piloto y sigue con el resto\n",
    "\n",
    "        if nacionalidad_piloto not in puntajes[equipo]:\n",
    "            puntajes[equipo][nacionalidad_piloto] = puntaje_piloto\n",
    "        elif puntajes[equipo][nacionalidad_piloto] < puntaje_piloto:\n",
    "            puntajes[equipo][nacionalidad_piloto] = puntaje_piloto\n",
    "\n",
    "    return puntajes"
   ]
  },
  {
   "cell_type": "code",
   "execution_count": 6,
   "id": "296a1057-caea-45ae-9179-8280732ac065",
   "metadata": {},
   "outputs": [
    {
     "name": "stdout",
     "output_type": "stream",
     "text": [
      "{'Red Bull': {'Holandés': 420, 'Mexicano': 310}, 'Mercedes': {'Británico': 390}, 'Aston Martin': {'Español': 310, 'Canadiense': 190}}\n"
     ]
    }
   ],
   "source": [
    "pilotos_puntaje = [\n",
    "    (\"Verstappen\", 420),\n",
    "    (\"Pérez\", 310),\n",
    "    (\"Hamilton\", 390),\n",
    "    (\"Russell\", 280),\n",
    "    (\"Alonso\", 310),\n",
    "    (\"Stroll\", 190)\n",
    "]\n",
    "\n",
    "pilotos_equipos = [\n",
    "    (\"Verstappen\", \"Red Bull\"),\n",
    "    (\"Pérez\", \"Red Bull\"),\n",
    "    (\"Hamilton\", \"Mercedes\"),\n",
    "    (\"Russell\", \"Mercedes\"),\n",
    "    (\"Alonso\", \"Aston Martin\"),\n",
    "    (\"Stroll\", \"Aston Martin\")\n",
    "]\n",
    "\n",
    "pilotos_nacionalidades = [\n",
    "    (\"Verstappen\", \"Holandés\"),\n",
    "    (\"Pérez\", \"Mexicano\"),\n",
    "    (\"Hamilton\", \"Británico\"),\n",
    "    (\"Russell\", \"Británico\"),\n",
    "    (\"Alonso\", \"Español\"),\n",
    "    (\"Stroll\", \"Canadiense\")\n",
    "]\n",
    "\n",
    "resultado = puntajeMaximo(pilotos_puntaje, pilotos_equipos, pilotos_nacionalidades)\n",
    "print(resultado)"
   ]
  },
  {
   "cell_type": "code",
   "execution_count": 12,
   "id": "c8caf0d0-40a2-48ce-8435-06e3fd7b4a30",
   "metadata": {},
   "outputs": [],
   "source": [
    "def como_practican(dicc, lista_alumnos):\n",
    "    res = {alumno: [] for alumno in lista_alumnos}\n",
    "    for tema, dato in dicc.items():\n",
    "        for alumno, cant_ejerc in dato.items():\n",
    "            if alumno in res:\n",
    "                res[alumno].append((cant_ejerc, tema))\n",
    "    return res"
   ]
  },
  {
   "cell_type": "code",
   "execution_count": 13,
   "id": "829fc772-1ac0-4dc1-b9fe-dc160b4c0f05",
   "metadata": {},
   "outputs": [
    {
     "name": "stdout",
     "output_type": "stream",
     "text": [
      "{'Ana': [(10, 'Excepciones'), (12, 'Grafos')], 'Luz': [(9, 'Excepciones'), (7, 'Listas')]}\n"
     ]
    }
   ],
   "source": [
    "ejercicios = {\n",
    "    \"Excepciones\": {\n",
    "        \"Ana\": 10,\n",
    "        \"Luz\": 9,\n",
    "        \"Carlos\": 5\n",
    "    },\n",
    "    \"Grafos\": {\n",
    "        \"Ana\": 12,\n",
    "        \"Carlos\": 8\n",
    "    },\n",
    "    \"Listas\": {\n",
    "        \"Luz\": 7,\n",
    "        \"Carlos\": 6\n",
    "    }\n",
    "}\n",
    "alumnos_consulta = [\"Ana\", \"Luz\"]\n",
    "res = como_practican(ejercicios,alumnos_consulta)\n",
    "print(res)\n",
    "\n"
   ]
  },
  {
   "cell_type": "code",
   "execution_count": null,
   "id": "369835a2-36f0-4457-9017-e7daec038e0c",
   "metadata": {},
   "outputs": [],
   "source": []
  }
 ],
 "metadata": {
  "kernelspec": {
   "display_name": "Python 3 (ipykernel)",
   "language": "python",
   "name": "python3"
  },
  "language_info": {
   "codemirror_mode": {
    "name": "ipython",
    "version": 3
   },
   "file_extension": ".py",
   "mimetype": "text/x-python",
   "name": "python",
   "nbconvert_exporter": "python",
   "pygments_lexer": "ipython3",
   "version": "3.13.7"
  }
 },
 "nbformat": 4,
 "nbformat_minor": 5
}
