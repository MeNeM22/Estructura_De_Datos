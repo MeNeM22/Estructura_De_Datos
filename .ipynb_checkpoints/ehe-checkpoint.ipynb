{
 "cells": [
  {
   "cell_type": "code",
   "execution_count": 12,
   "id": "9f865ee4-7067-4913-b1eb-8eaeb186d403",
   "metadata": {},
   "outputs": [],
   "source": [
    "def concatenar(archivo, *archivos):\n",
    "    with open(archivo,\"a\") as f:\n",
    "        for nombre in archivos:\n",
    "            with open(nombre,\"r\", encoding=\"utf-8\")as g:\n",
    "                contenido = g.read()\n",
    "                f.write(contenido)"
   ]
  },
  {
   "cell_type": "code",
   "execution_count": 13,
   "id": "8ecb464d-9a6c-4c41-b128-04fe7a2ae163",
   "metadata": {},
   "outputs": [],
   "source": [
    "concatenar(\"untitled.txt\",\"untitled1.txt\",\"untitled2.txt\")"
   ]
  },
  {
   "cell_type": "code",
   "execution_count": null,
   "id": "ce69fee3-c030-49c0-9bc9-7702b400bcc3",
   "metadata": {},
   "outputs": [],
   "source": [
    "def puntajeMaximo(pilotos_puntaje, pilotos_equipos, pilotos_nacionalidades):\n",
    "    dicc_equipos = dict(pilotos_equipos)\n",
    "    dicc_puntaje = dict(pilotos_puntaje)\n",
    "    dicc_nacionalidades = dict(pilotos_nacionalidades)\n",
    "    puntajes = {equipo: {} for piloto, equipo in dicc_equipos.items()}\n",
    "    for piloto, equipo in dicc_equipos.items():\n",
    "        puntaje_piloto = dicc_puntaje[piloto]\n",
    "        nacionalidad_piloto = dicc_nacionalidades[piloto]\n",
    "        if nacionalidad_piloto not in puntajes[equipo]:\n",
    "            puntajes[equipo][nacionalidad_piloto] = puntaje_piloto\n",
    "        elif puntajes[equipo][nacionalidad_piloto] < puntaje_piloto:\n",
    "            puntajes[equipo][nacionalidad_piloto] = puntaje_piloto\n",
    "        \n",
    "    \n",
    "        \n",
    "    \n",
    "    \n",
    "    "
   ]
  },
  {
   "cell_type": "code",
   "execution_count": null,
   "id": "296a1057-caea-45ae-9179-8280732ac065",
   "metadata": {},
   "outputs": [],
   "source": [
    "pilotos_puntaje = [\n",
    "    (\"Verstappen\", 420),\n",
    "    (\"Pérez\", 310),\n",
    "    (\"Hamilton\", 390),\n",
    "    (\"Russell\", 280),\n",
    "    (\"Alonso\", 310),\n",
    "    (\"Stroll\", 190)\n",
    "]\n",
    "\n",
    "pilotos_equipos = [\n",
    "    (\"Verstappen\", \"Red Bull\"),\n",
    "    (\"Pérez\", \"Red Bull\"),\n",
    "    (\"Hamilton\", \"Mercedes\"),\n",
    "    (\"Russell\", \"Mercedes\"),\n",
    "    (\"Alonso\", \"Aston Martin\"),\n",
    "    (\"Stroll\", \"Aston Martin\")\n",
    "]\n",
    "\n",
    "pilotos_nacionalidades = [\n",
    "    (\"Verstappen\", \"Holandés\"),\n",
    "    (\"Pérez\", \"Mexicano\"),\n",
    "    (\"Hamilton\", \"Británico\"),\n",
    "    (\"Russell\", \"Británico\"),\n",
    "    (\"Alonso\", \"Español\"),\n",
    "    (\"Stroll\", \"Canadiense\")\n",
    "]\n",
    "\n",
    "resultado = puntajeMaximo(pilotos_puntaje, pilotos_equipos, pilotos_nacionalidades)\n",
    "from pprint import pprint\n",
    "pprint(resultado)"
   ]
  }
 ],
 "metadata": {
  "kernelspec": {
   "display_name": "Python 3 (ipykernel)",
   "language": "python",
   "name": "python3"
  },
  "language_info": {
   "codemirror_mode": {
    "name": "ipython",
    "version": 3
   },
   "file_extension": ".py",
   "mimetype": "text/x-python",
   "name": "python",
   "nbconvert_exporter": "python",
   "pygments_lexer": "ipython3",
   "version": "3.13.7"
  }
 },
 "nbformat": 4,
 "nbformat_minor": 5
}
